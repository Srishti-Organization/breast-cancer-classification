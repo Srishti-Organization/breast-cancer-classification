{
 "cells": [
  {
   "cell_type": "code",
   "execution_count": null,
   "id": "df7c10ab",
   "metadata": {},
   "outputs": [],
   "source": [
    "import pandas as pd\n",
    "import matplotlib.pyplot as plt\n",
    "from PIL import Image\n",
    "import random\n",
    "\n",
    "df = pd.read_csv(\"../data/processed/train.csv\")\n",
    "print(df['label'].value_counts())\n",
    "\n",
    "sample = df.sample(5)\n",
    "for _, row in sample.iterrows():\n",
    "    img = Image.open(f\"../data/processed/patches/{row['filename']}\")\n",
    "    plt.imshow(img)\n",
    "    plt.title(f\"Label: {row['label']}\")\n",
    "    plt.show()"
   ]
  }
 ],
 "metadata": {
  "language_info": {
   "name": "python"
  }
 },
 "nbformat": 4,
 "nbformat_minor": 5
}
