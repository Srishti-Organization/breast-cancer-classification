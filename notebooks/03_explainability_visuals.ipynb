{
 "cells": [
  {
   "cell_type": "code",
   "execution_count": null,
   "id": "f2d2fe4d",
   "metadata": {},
   "outputs": [],
   "source": [
    "import torch\n",
    "from xai import gradcam_visualize\n",
    "from dataset import HistopathologyDataset\n",
    "from torchvision import transforms\n",
    "\n",
    "model = torch.load(\"../experiments/exp1_resnet50/best_model.pth\")\n",
    "model.eval()\n",
    "\n",
    "transform = transforms.Compose([transforms.Resize((224,224)), transforms.ToTensor()])\n",
    "dataset = HistopathologyDataset(\"../data/processed/test.csv\", transforms=transform)\n",
    "\n",
    "for i in range(3):\n",
    "    img, label = dataset[i]\n",
    "    gradcam_visualize(model, img.unsqueeze(0), label, save_path=f\"gradcam_{i}.png\")"
   ]
  }
 ],
 "metadata": {
  "language_info": {
   "name": "python"
  }
 },
 "nbformat": 4,
 "nbformat_minor": 5
}
